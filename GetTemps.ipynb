{
 "cells": [
  {
   "cell_type": "code",
   "execution_count": 3,
   "metadata": {},
   "outputs": [],
   "source": [
    "# Import Dependencies\n",
    "import pandas as pd"
   ]
  },
  {
   "cell_type": "code",
   "execution_count": 164,
   "metadata": {
    "scrolled": true
   },
   "outputs": [
    {
     "name": "stdout",
     "output_type": "stream",
     "text": [
      "Read in data1 (36367)\n",
      "Read in data2 (110281)\n"
     ]
    }
   ],
   "source": [
    "# Create reference to CSV file\n",
    "file1 = \"Yuma_010105_123108_Sorted.csv\"\n",
    "file2 = \"Yuma_010109_123118_Sorted.csv\"\n",
    "\n",
    "# Import the CSV into a pandas DataFrame\n",
    "try:\n",
    "    data1 = pd.read_csv(file1, low_memory=False)\n",
    "    print(f\"Read in data1 ({len(data1)})\")\n",
    "except FileNotFoundError:\n",
    "    data1 = pd.DataFrame()\n",
    "    print(\"Setting data1 to EMPTY\")\n",
    "try:\n",
    "    data2 = pd.read_csv(file2, low_memory=False)\n",
    "    print(f\"Read in data2 ({len(data2)})\")\n",
    "except FileNotFoundError:\n",
    "    data1 = pd.DataFrame()\n",
    "    print(\"Setting data2 to EMPTY\")"
   ]
  },
  {
   "cell_type": "code",
   "execution_count": 165,
   "metadata": {},
   "outputs": [
    {
     "name": "stdout",
     "output_type": "stream",
     "text": [
      "2005-01-01 2008-12-31\n"
     ]
    }
   ],
   "source": [
    "try:\n",
    "    print(data1['DATE'][0].split(\"T\",1)[0] + \" \" + data1['DATE'][len(data1)-1].split(\"T\",1)[0])\n",
    "except KeyError:\n",
    "    print(not data1.empty)"
   ]
  },
  {
   "cell_type": "code",
   "execution_count": 166,
   "metadata": {},
   "outputs": [
    {
     "name": "stdout",
     "output_type": "stream",
     "text": [
      "2009-01-01 2018-12-31\n"
     ]
    }
   ],
   "source": [
    "try:\n",
    "    print(data2['DATE'][0].split(\"T\",1)[0] + \" \" + data2['DATE'][len(data2)-1].split(\"T\",1)[0])\n",
    "except KeyError:\n",
    "    print(not data2.empty)"
   ]
  },
  {
   "cell_type": "code",
   "execution_count": 167,
   "metadata": {},
   "outputs": [
    {
     "data": {
      "text/plain": [
       "141705"
      ]
     },
     "execution_count": 167,
     "metadata": {},
     "output_type": "execute_result"
    }
   ],
   "source": [
    "rows = []\n",
    "for row in data1.itertuples():\n",
    "    #print(row.DATE.split(\"T\",1)[0], row.DATE.split(\"T\",1)[1], row.HourlyDryBulbTemperature)\n",
    "    try:\n",
    "        temp = int(row.HourlyDryBulbTemperature)\n",
    "        rd = {}\n",
    "        rd.update({'Date':row.DATE.split(\"T\",1)[0]})\n",
    "        rd.update({'Time':row.DATE.split(\"T\",1)[1]})\n",
    "        rd.update({'Temp':temp})\n",
    "        rows.append(rd)\n",
    "    except ValueError:\n",
    "        pass\n",
    "for row in data2.itertuples():\n",
    "    #print(row.DATE.split(\"T\",1)[0], row.DATE.split(\"T\",1)[1], row.HourlyDryBulbTemperature)\n",
    "    try:\n",
    "        temp = int(row.HourlyDryBulbTemperature)\n",
    "        rd = {}\n",
    "        rd.update({'Date':row.DATE.split(\"T\",1)[0]})\n",
    "        rd.update({'Time':row.DATE.split(\"T\",1)[1]})\n",
    "        rd.update({'Temp':temp})\n",
    "        rows.append(rd)\n",
    "    except ValueError:\n",
    "        pass\n",
    "len(rows)"
   ]
  },
  {
   "cell_type": "code",
   "execution_count": 168,
   "metadata": {},
   "outputs": [
    {
     "data": {
      "text/html": [
       "<div>\n",
       "<style scoped>\n",
       "    .dataframe tbody tr th:only-of-type {\n",
       "        vertical-align: middle;\n",
       "    }\n",
       "\n",
       "    .dataframe tbody tr th {\n",
       "        vertical-align: top;\n",
       "    }\n",
       "\n",
       "    .dataframe thead th {\n",
       "        text-align: right;\n",
       "    }\n",
       "</style>\n",
       "<table border=\"1\" class=\"dataframe\">\n",
       "  <thead>\n",
       "    <tr style=\"text-align: right;\">\n",
       "      <th></th>\n",
       "      <th>Date</th>\n",
       "      <th>Temp</th>\n",
       "      <th>Time</th>\n",
       "    </tr>\n",
       "  </thead>\n",
       "  <tbody>\n",
       "    <tr>\n",
       "      <th>0</th>\n",
       "      <td>2005-01-01</td>\n",
       "      <td>54</td>\n",
       "      <td>00:00:00</td>\n",
       "    </tr>\n",
       "    <tr>\n",
       "      <th>1</th>\n",
       "      <td>2005-01-01</td>\n",
       "      <td>55</td>\n",
       "      <td>01:00:00</td>\n",
       "    </tr>\n",
       "    <tr>\n",
       "      <th>2</th>\n",
       "      <td>2005-01-01</td>\n",
       "      <td>54</td>\n",
       "      <td>02:00:00</td>\n",
       "    </tr>\n",
       "    <tr>\n",
       "      <th>3</th>\n",
       "      <td>2005-01-01</td>\n",
       "      <td>50</td>\n",
       "      <td>03:00:00</td>\n",
       "    </tr>\n",
       "    <tr>\n",
       "      <th>4</th>\n",
       "      <td>2005-01-01</td>\n",
       "      <td>50</td>\n",
       "      <td>04:00:00</td>\n",
       "    </tr>\n",
       "  </tbody>\n",
       "</table>\n",
       "</div>"
      ],
      "text/plain": [
       "         Date  Temp      Time\n",
       "0  2005-01-01    54  00:00:00\n",
       "1  2005-01-01    55  01:00:00\n",
       "2  2005-01-01    54  02:00:00\n",
       "3  2005-01-01    50  03:00:00\n",
       "4  2005-01-01    50  04:00:00"
      ]
     },
     "execution_count": 168,
     "metadata": {},
     "output_type": "execute_result"
    }
   ],
   "source": [
    "df = pd.DataFrame(rows)\n",
    "df.head()"
   ]
  },
  {
   "cell_type": "code",
   "execution_count": 169,
   "metadata": {},
   "outputs": [],
   "source": [
    "df.to_csv(\"temp.csv\", columns=['Date', 'Time', 'Temp'], index = None, header=True)"
   ]
  },
  {
   "cell_type": "code",
   "execution_count": null,
   "metadata": {},
   "outputs": [],
   "source": []
  }
 ],
 "metadata": {
  "kernelspec": {
   "display_name": "Python [conda env:PythonData]",
   "language": "python",
   "name": "conda-env-PythonData-py"
  },
  "language_info": {
   "codemirror_mode": {
    "name": "ipython",
    "version": 3
   },
   "file_extension": ".py",
   "mimetype": "text/x-python",
   "name": "python",
   "nbconvert_exporter": "python",
   "pygments_lexer": "ipython3",
   "version": "3.6.7"
  }
 },
 "nbformat": 4,
 "nbformat_minor": 2
}
