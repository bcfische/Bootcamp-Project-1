{
 "cells": [
  {
   "cell_type": "code",
   "execution_count": 1,
   "metadata": {},
   "outputs": [],
   "source": [
    "# Import Dependencies\n",
    "import pandas as pd"
   ]
  },
  {
   "cell_type": "code",
   "execution_count": 49,
   "metadata": {},
   "outputs": [
    {
     "name": "stdout",
     "output_type": "stream",
     "text": [
      "Read in data (365)\n"
     ]
    }
   ],
   "source": [
    "# Import the CSV into a pandas DataFrame\n",
    "county = \"Yuma\"\n",
    "file = county+\"_Yearly.csv\"\n",
    "try:\n",
    "    data = pd.read_csv(file, low_memory=False)\n",
    "    print(f\"Read in data ({len(data)})\")\n",
    "except FileNotFoundError:\n",
    "    print(f\"Could not open '{file}'\")"
   ]
  },
  {
   "cell_type": "code",
   "execution_count": 50,
   "metadata": {},
   "outputs": [
    {
     "name": "stdout",
     "output_type": "stream",
     "text": [
      "Yuma,180,198,180,152,163,188,178,221,192,182,194\n"
     ]
    }
   ],
   "source": [
    "years = ['2007','2008','2009','2010','2011','2012','2013','2014','2015','2016','2017']\n",
    "values = []\n",
    "values.append(county)\n",
    "for year in years:\n",
    "    try:\n",
    "        values.append(sum(data[year]>data['AVG']))\n",
    "    except KeyError:\n",
    "        values.append(0)\n",
    "print(*values, sep=\",\")"
   ]
  },
  {
   "cell_type": "code",
   "execution_count": 51,
   "metadata": {},
   "outputs": [
    {
     "name": "stdout",
     "output_type": "stream",
     "text": [
      "Yuma,49.0,54.0,49.0,42.0,45.0,52.0,49.0,61.0,53.0,50.0,53.0\n"
     ]
    }
   ],
   "source": [
    "values = []\n",
    "values.append(county)\n",
    "for year in years:\n",
    "    try:\n",
    "        values.append(round(100*sum(data[year]>data['AVG'])/data[year].count()))\n",
    "    except KeyError:\n",
    "        values.append(0)\n",
    "print(*values, sep=\",\")"
   ]
  },
  {
   "cell_type": "code",
   "execution_count": 53,
   "metadata": {},
   "outputs": [],
   "source": [
    "from scipy.stats import rankdata\n",
    "import numpy as np"
   ]
  },
  {
   "cell_type": "code",
   "execution_count": 54,
   "metadata": {},
   "outputs": [
    {
     "name": "stdout",
     "output_type": "stream",
     "text": [
      "2007,2179,2021,1849,1942,2150,1999,2371,2170,2081,2207\n"
     ]
    }
   ],
   "source": [
    "sum = [0,0,0,0,0,0,0,0,0,0,0]\n",
    "for i in range(len(data)):\n",
    "    d = data[data.index==i].values.tolist()\n",
    "    if not np.isnan(d[0][3:14]).any():\n",
    "        sum += rankdata(d[0][3:14], method='min')\n",
    "print(*sum, sep=\",\")"
   ]
  },
  {
   "cell_type": "code",
   "execution_count": 60,
   "metadata": {},
   "outputs": [
    {
     "name": "stdout",
     "output_type": "stream",
     "text": [
      "2007,2179,2021,1849,1942,2150,1999,2371,2170,2081,2207\n"
     ]
    }
   ],
   "source": [
    "sum = [0,0,0,0,0,0,0,0,0,0,0]\n",
    "for i in range(len(data)):\n",
    "    d = list(data.iloc[i])\n",
    "    if not np.isnan(d[3:14]).any():\n",
    "        sum += rankdata(d[3:14], method='min')\n",
    "print(*sum, sep=\",\")"
   ]
  },
  {
   "cell_type": "code",
   "execution_count": 66,
   "metadata": {},
   "outputs": [
    {
     "data": {
      "text/plain": [
       "2007    68\n",
       "2008    61\n",
       "2009    72\n",
       "2010    67\n",
       "2011    54\n",
       "2012    77\n",
       "2013    58\n",
       "2014    74\n",
       "2015    60\n",
       "2016    61\n",
       "2017    61\n",
       "Name: 0, dtype: object"
      ]
     },
     "execution_count": 66,
     "metadata": {},
     "output_type": "execute_result"
    }
   ],
   "source": [
    "data.iloc[0][years]"
   ]
  },
  {
   "cell_type": "code",
   "execution_count": null,
   "metadata": {},
   "outputs": [],
   "source": []
  }
 ],
 "metadata": {
  "kernelspec": {
   "display_name": "Python [conda env:PythonData]",
   "language": "python",
   "name": "conda-env-PythonData-py"
  },
  "language_info": {
   "codemirror_mode": {
    "name": "ipython",
    "version": 3
   },
   "file_extension": ".py",
   "mimetype": "text/x-python",
   "name": "python",
   "nbconvert_exporter": "python",
   "pygments_lexer": "ipython3",
   "version": "3.6.7"
  }
 },
 "nbformat": 4,
 "nbformat_minor": 2
}
