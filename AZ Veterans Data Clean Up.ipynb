{
 "cells": [
  {
   "cell_type": "code",
   "execution_count": null,
   "metadata": {},
   "outputs": [],
   "source": [
    "import pandas as pd \n",
    "import matplotlib.pyplot as plt\n",
    "import numpy as np\n",
    "import seaborn as sns"
   ]
  },
  {
   "cell_type": "code",
   "execution_count": null,
   "metadata": {},
   "outputs": [],
   "source": [
    "az_2017 = \"Resources/ACS_17_5YR_S2101.csv\"\n",
    "az_2016 = \"Resources/ACS_16_5YR_S2101.csv\"\n",
    "az_2015 = \"Resources/ACS_15_5YR_S2101.csv\"\n",
    "az_2014 = \"Resources/ACS_14_5YR_S2101.csv\"\n",
    "az_2013 = \"Resources/ACS_13_5YR_S2101.csv\"\n",
    "az_2012 = \"Resources/ACS_12_5YR_S2101.csv\"\n",
    "az_2011 = \"Resources/ACS_11_5YR_S2101.csv\"\n",
    "az_2010 = \"Resources/ACS_10_5YR_S2101.csv\"\n",
    "az_2009 = \"Resources/ACS_09_5YR_S2101.csv\""
   ]
  },
  {
   "cell_type": "code",
   "execution_count": null,
   "metadata": {},
   "outputs": [],
   "source": [
    "az_county_2017 = pd.read_csv(az_2017)\n",
    "az_county_2016 = pd.read_csv(az_2016)\n",
    "az_county_2015 = pd.read_csv(az_2015)\n",
    "az_county_2014 = pd.read_csv(az_2014)\n",
    "az_county_2013 = pd.read_csv(az_2013)\n",
    "az_county_2012 = pd.read_csv(az_2012)\n",
    "az_county_2011 = pd.read_csv(az_2011)\n",
    "az_county_2010 = pd.read_csv(az_2010)\n",
    "az_county_2009 = pd.read_csv(az_2009)"
   ]
  },
  {
   "cell_type": "code",
   "execution_count": null,
   "metadata": {},
   "outputs": [],
   "source": [
    "az_county_2017 = az_county_2017.rename(columns={\"GEO.display-label\":\"County\",\n",
    "                                               \"HC01_EST_VC01\": \"2017_POP\",\n",
    "                                               \"HC03_EST_VC03\": \"2017_Vet\"})\n",
    "\n",
    "del az_county_2017['GEO.id']\n",
    "del az_county_2017['GEO.id2']\n",
    "az_county_2017.head()"
   ]
  },
  {
   "cell_type": "code",
   "execution_count": null,
   "metadata": {},
   "outputs": [],
   "source": [
    "az_county_2016 = az_county_2016.rename(columns={\"GEO.display-label\":\"County\",\n",
    "                                               \"HC01_EST_VC01\": \"2016_POP\",\n",
    "                                               \"HC03_EST_VC03\": \"2016_Vet\"})\n",
    "\n",
    "del az_county_2016['GEO.id']\n",
    "del az_county_2016['GEO.id2']\n",
    "az_county_2016.head()"
   ]
  },
  {
   "cell_type": "code",
   "execution_count": null,
   "metadata": {},
   "outputs": [],
   "source": [
    "az_county_2015 = az_county_2015.rename(columns={\"GEO.display-label\":\"County\",\n",
    "                                               \"HC01_EST_VC01\": \"2015_POP\",\n",
    "                                               \"HC03_EST_VC03\": \"2015_Vet\"})\n",
    "\n",
    "del az_county_2015['GEO.id']\n",
    "del az_county_2015['GEO.id2']\n",
    "az_county_2015.head()"
   ]
  },
  {
   "cell_type": "code",
   "execution_count": null,
   "metadata": {},
   "outputs": [],
   "source": [
    "az_county_2014 = az_county_2014.rename(columns={\"GEO.display-label\":\"County\",\n",
    "                                               \"HC01_EST_VC01\": \"2014_POP\",\n",
    "                                               \"HC02_EST_VC03\": \"2014_Vet\"})\n",
    "\n",
    "del az_county_2014['GEO.id']\n",
    "del az_county_2014['GEO.id2']\n",
    "del az_county_2014['HC02_EST_VC01']\n",
    "az_county_2014.head()"
   ]
  },
  {
   "cell_type": "code",
   "execution_count": null,
   "metadata": {},
   "outputs": [],
   "source": [
    "az_county_2013 = az_county_2013.rename(columns={\"GEO.display-label\":\"County\",\n",
    "                                               \"HC01_EST_VC01\": \"2013_POP\",\n",
    "                                               \"HC02_EST_VC03\": \"2013_Vet\"})\n",
    "\n",
    "del az_county_2013['GEO.id']\n",
    "del az_county_2013['GEO.id2']\n",
    "del az_county_2013['HC02_EST_VC01']\n",
    "az_county_2013.head()"
   ]
  },
  {
   "cell_type": "code",
   "execution_count": null,
   "metadata": {},
   "outputs": [],
   "source": [
    "az_county_2012 = az_county_2012.rename(columns={\"GEO.display-label\":\"County\",\n",
    "                                               \"HC01_EST_VC01\": \"2012_POP\",\n",
    "                                               \"HC02_EST_VC03\": \"2012_Vet\"})\n",
    "\n",
    "del az_county_2012['GEO.id']\n",
    "del az_county_2012['GEO.id2']\n",
    "del az_county_2012['HC02_EST_VC01']\n",
    "az_county_2012.head()"
   ]
  },
  {
   "cell_type": "code",
   "execution_count": null,
   "metadata": {},
   "outputs": [],
   "source": [
    "az_county_2011 = az_county_2011.rename(columns={\"GEO.display-label\":\"County\",\n",
    "                                               \"HC01_EST_VC01\": \"2011_POP\",\n",
    "                                               \"HC02_EST_VC03\": \"2011_Vet\"})\n",
    "\n",
    "del az_county_2011['GEO.id']\n",
    "del az_county_2011['GEO.id2']\n",
    "del az_county_2011['HC02_EST_VC01']\n",
    "az_county_2011.head()"
   ]
  },
  {
   "cell_type": "code",
   "execution_count": null,
   "metadata": {},
   "outputs": [],
   "source": [
    "az_county_2010 = az_county_2010.rename(columns={\"GEO.display-label\":\"County\",\n",
    "                                               \"HC01_EST_VC01\": \"2010_POP\",\n",
    "                                               \"HC02_EST_VC03\": \"2010_Vet\"})\n",
    "\n",
    "del az_county_2010['GEO.id']\n",
    "del az_county_2010['GEO.id2']\n",
    "del az_county_2010['HC02_EST_VC01']\n",
    "az_county_2010.head()"
   ]
  },
  {
   "cell_type": "code",
   "execution_count": null,
   "metadata": {},
   "outputs": [],
   "source": [
    "az_county_2009 = az_county_2009.rename(columns={\"GEO.display-label\":\"County\",\n",
    "                                               \"HC01_EST_VC01\": \"2009_POP\",\n",
    "                                               \"HC02_EST_VC03\": \"2009_Vet\"})\n",
    "\n",
    "del az_county_2009['GEO.id']\n",
    "del az_county_2009['GEO.id2']\n",
    "del az_county_2009['HC02_EST_VC01']\n",
    "\n",
    "az_county_2009.head()"
   ]
  },
  {
   "cell_type": "code",
   "execution_count": null,
   "metadata": {},
   "outputs": [],
   "source": [
    "az_county_2009['09_percent'] = az_county_2009['2009_Vet']/az_county_2009['2009_POP']\n",
    "az_county_2010['10_percent'] = az_county_2010['2010_Vet']/az_county_2010['2010_POP']\n",
    "az_county_2011['11_percent'] = az_county_2011['2011_Vet']/az_county_2011['2011_POP']\n",
    "az_county_2012['12_percent'] = az_county_2012['2012_Vet']/az_county_2012['2012_POP']\n",
    "az_county_2013['13_percent'] = az_county_2013['2013_Vet']/az_county_2013['2013_POP']\n",
    "az_county_2014['14_percent'] = az_county_2014['2014_Vet']/az_county_2014['2014_POP']\n",
    "az_county_2012['15_percent'] = az_county_2015['2015_Vet']/az_county_2015['2015_POP']\n",
    "az_county_2013['16_percent'] = az_county_2016['2016_Vet']/az_county_2016['2016_POP']\n",
    "az_county_2014['17_percent'] = az_county_2017['2017_Vet']/az_county_2017['2017_POP']"
   ]
  },
  {
   "cell_type": "code",
   "execution_count": null,
   "metadata": {},
   "outputs": [],
   "source": [
    "az_county_2009.head()"
   ]
  },
  {
   "cell_type": "code",
   "execution_count": null,
   "metadata": {},
   "outputs": [],
   "source": [
    "m1 = pd.merge(az_county_2009, az_county_2010, on=[\"County\", \"County\"])\n",
    "m2 = pd.merge(az_county_2011, m1, on = [\"County\", \"County\"])\n",
    "m3 = pd.merge(az_county_2012, m2, on = [\"County\", \"County\"])\n",
    "m4 = pd.merge(az_county_2013, m3, on = [\"County\", \"County\"])\n",
    "m5 = pd.merge(az_county_2014, m4, on = [\"County\", \"County\"])\n",
    "m6 = pd.merge(az_county_2015, m5, on = [\"County\", \"County\"])\n",
    "m7 = pd.merge(az_county_2016, m6, on = [\"County\", \"County\"])\n",
    "final_merge = pd.merge(az_county_2017, m7, on = [\"County\", \"County\"])"
   ]
  },
  {
   "cell_type": "code",
   "execution_count": null,
   "metadata": {},
   "outputs": [],
   "source": [
    "del final_merge['2017_POP']\n",
    "del final_merge['2016_POP']\n",
    "del final_merge['2015_POP']\n",
    "del final_merge['2014_POP']\n",
    "del final_merge['2013_POP']\n",
    "del final_merge['2012_POP']\n",
    "del final_merge['2011_POP']\n",
    "del final_merge['2010_POP']\n",
    "del final_merge['2009_POP']\n",
    "del final_merge['2017_Vet']\n",
    "del final_merge['2016_Vet']\n",
    "del final_merge['2015_Vet']\n",
    "del final_merge['2014_Vet']\n",
    "del final_merge['2013_Vet']\n",
    "del final_merge['2012_Vet']\n",
    "del final_merge['2011_Vet']\n",
    "del final_merge['2010_Vet']\n",
    "del final_merge['2009_Vet']\n",
    "final_merge.head()"
   ]
  },
  {
   "cell_type": "code",
   "execution_count": null,
   "metadata": {},
   "outputs": [],
   "source": [
    "az_vet_county_df = final_merge[[\"County\",\"09_percent\", \"10_percent\", \"11_percent\", \n",
    "                                \"12_percent\", \"13_percent\", \"14_percent\", \"15_percent\", \"16_percent\", \"17_percent\"]]"
   ]
  },
  {
   "cell_type": "code",
   "execution_count": null,
   "metadata": {},
   "outputs": [],
   "source": [
    "az_vet_county_df.head()"
   ]
  },
  {
   "cell_type": "code",
   "execution_count": null,
   "metadata": {},
   "outputs": [],
   "source": [
    "cm = sns.light_palette(\"green\", as_cmap=True)\n",
    "\n",
    "chart_df = az_vet_county_df.style.background_gradient(cmap=cm)\n",
    "\n",
    "chart_df"
   ]
  },
  {
   "cell_type": "code",
   "execution_count": null,
   "metadata": {},
   "outputs": [],
   "source": []
  }
 ],
 "metadata": {
  "kernelspec": {
   "display_name": "Python [conda env:PythonData]",
   "language": "python",
   "name": "conda-env-PythonData-py"
  },
  "language_info": {
   "codemirror_mode": {
    "name": "ipython",
    "version": 3
   },
   "file_extension": ".py",
   "mimetype": "text/x-python",
   "name": "python",
   "nbconvert_exporter": "python",
   "pygments_lexer": "ipython3",
   "version": "3.6.7"
  }
 },
 "nbformat": 4,
 "nbformat_minor": 2
}
